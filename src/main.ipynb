{
 "cells": [
  {
   "cell_type": "code",
   "execution_count": 31,
   "id": "6bdf1287",
   "metadata": {},
   "outputs": [],
   "source": [
    "from abc import ABC , abstractmethod\n",
    "class PasswordGenerator:\n",
    "   \n",
    "    @abstractmethod\n",
    "    def generate(self):\n",
    "        pass"
   ]
  },
  {
   "cell_type": "code",
   "execution_count": 45,
   "id": "ad8bbdf8",
   "metadata": {},
   "outputs": [],
   "source": [
    "import random\n",
    "import string\n",
    "class PinCode(PasswordGenerator):\n",
    "    def __init__(self, length):\n",
    "        self.length = length\n",
    "        \n",
    "    def generate(self):\n",
    "        return ''. join([ random.choice(string.digits) for _ in range (self.length)])"
   ]
  },
  {
   "cell_type": "code",
   "execution_count": 189,
   "id": "d3ba7ffa",
   "metadata": {},
   "outputs": [],
   "source": [
    "import string\n",
    "class RandomPassword(PasswordGenerator):\n",
    "    def __init__(self, length, symbol: bool, number: bool):\n",
    "        self.characters=string.ascii_letters\n",
    "        self.length=length\n",
    "        if symbol ==True:\n",
    "            self.characters +=string.punctuation\n",
    "        if number == True:\n",
    "            self.characters +=string.digits\n",
    "\n",
    "\n",
    "\n",
    "    def generate(self):\n",
    "     return ''.join( random.choice(self.characters) for _ in range (self.length))"
   ]
  },
  {
   "cell_type": "code",
   "execution_count": null,
   "id": "ef9331e2",
   "metadata": {},
   "outputs": [],
   "source": []
  }
 ],
 "metadata": {
  "kernelspec": {
   "display_name": "Number-Guesser-Game-with-Hints",
   "language": "python",
   "name": "python3"
  },
  "language_info": {
   "codemirror_mode": {
    "name": "ipython",
    "version": 3
   },
   "file_extension": ".py",
   "mimetype": "text/x-python",
   "name": "python",
   "nbconvert_exporter": "python",
   "pygments_lexer": "ipython3",
   "version": "3.13.5"
  }
 },
 "nbformat": 4,
 "nbformat_minor": 5
}
