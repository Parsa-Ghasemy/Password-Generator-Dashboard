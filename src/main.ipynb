{
 "cells": [
  {
   "cell_type": "code",
   "execution_count": 7,
   "id": "6bdf1287",
   "metadata": {},
   "outputs": [
    {
     "name": "stderr",
     "output_type": "stream",
     "text": [
      "[nltk_data] Downloading package words to /home/parsa/nltk_data...\n",
      "[nltk_data]   Package words is already up-to-date!\n"
     ]
    }
   ],
   "source": [
    "from abc import ABC , abstractmethod\n",
    "import nltk\n",
    "\n",
    "nltk.download('words')\n",
    "class PasswordGenerator(ABC):\n",
    "   \n",
    "    @abstractmethod\n",
    "    def generate(self):\n",
    "        pass"
   ]
  },
  {
   "cell_type": "code",
   "execution_count": null,
   "id": "9c202ce7",
   "metadata": {},
   "outputs": [
    {
     "data": {
      "text/plain": [
       "236736"
      ]
     },
     "execution_count": 9,
     "metadata": {},
     "output_type": "execute_result"
    }
   ],
   "source": [
    "()\n"
   ]
  },
  {
   "cell_type": "code",
   "execution_count": 4,
   "id": "ad8bbdf8",
   "metadata": {},
   "outputs": [],
   "source": [
    "import random\n",
    "import string\n",
    "class PinCode(PasswordGenerator):\n",
    "    def __init__(self, length):\n",
    "        self.length = length\n",
    "        \n",
    "    def generate(self):\n",
    "        return ''. join([ random.choice(string.digits) for _ in range (self.length)])"
   ]
  },
  {
   "cell_type": "code",
   "execution_count": 5,
   "id": "d3ba7ffa",
   "metadata": {},
   "outputs": [],
   "source": [
    "import string\n",
    "class RandomPassword(PasswordGenerator):\n",
    "    def __init__(self, length, symbol: bool, number: bool):\n",
    "        self.characters=string.ascii_letters\n",
    "        self.length=length\n",
    "        if symbol ==True:\n",
    "            self.characters +=string.punctuation\n",
    "        if number == True:\n",
    "            self.characters +=string.digits\n",
    "\n",
    "\n",
    "\n",
    "    def generate(self):\n",
    "     return ''.join( random.choice(self.characters) for _ in range (self.length))"
   ]
  },
  {
   "cell_type": "code",
   "execution_count": 11,
   "id": "ef9331e2",
   "metadata": {},
   "outputs": [],
   "source": [
    "\n",
    "class MemorablePasswordGenarator(PasswordGenerator):\n",
    "    def __init__(self, num_of_word, capital: bool = False, separator = '-', codex = None ):\n",
    "        self.num_of_word = num_of_word\n",
    "        self.capital = capital\n",
    "        self.separator = separator\n",
    "        if codex is None:\n",
    "            self.codex = nltk.corpus.words.words()\n",
    "    \n",
    "\n",
    "    def generate(self):\n",
    "        Password_word= (random.choice(self.codex) for _ in range (self.num_of_word))\n",
    "\n",
    "        if self.capital == True:\n",
    "            Password_word= (word.upper() for word in Password_word)\n",
    "\n",
    "        \n",
    "        return self.separator. join(Password_word)"
   ]
  }
 ],
 "metadata": {
  "kernelspec": {
   "display_name": "Password-Generator-Dashboard",
   "language": "python",
   "name": "python3"
  },
  "language_info": {
   "codemirror_mode": {
    "name": "ipython",
    "version": 3
   },
   "file_extension": ".py",
   "mimetype": "text/x-python",
   "name": "python",
   "nbconvert_exporter": "python",
   "pygments_lexer": "ipython3",
   "version": "3.13.5"
  }
 },
 "nbformat": 4,
 "nbformat_minor": 5
}
